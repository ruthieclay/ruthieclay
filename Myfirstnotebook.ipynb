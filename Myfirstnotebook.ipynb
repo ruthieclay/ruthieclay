{
  "nbformat": 4,
  "nbformat_minor": 0,
  "metadata": {
    "colab": {
      "provenance": [],
      "mount_file_id": "19yneWSG6s1ir_2y_oxpziTzG5DMCxWhO",
      "authorship_tag": "ABX9TyO1Y7HgjPUT3pHQbEzIuQFk",
      "include_colab_link": true
    },
    "kernelspec": {
      "name": "python3",
      "display_name": "Python 3"
    },
    "language_info": {
      "name": "python"
    }
  },
  "cells": [
    {
      "cell_type": "markdown",
      "metadata": {
        "id": "view-in-github",
        "colab_type": "text"
      },
      "source": [
        "<a href=\"https://colab.research.google.com/github/ruthieclay/ruthieclay/blob/main/Myfirstnotebook.ipynb\" target=\"_parent\"><img src=\"https://colab.research.google.com/assets/colab-badge.svg\" alt=\"Open In Colab\"/></a>"
      ]
    },
    {
      "cell_type": "code",
      "execution_count": 2,
      "metadata": {
        "colab": {
          "base_uri": "https://localhost:8080/"
        },
        "id": "s9zQnYObVCA8",
        "outputId": "3a5dff1d-d54c-4b8a-eaab-11a35f51750e"
      },
      "outputs": [
        {
          "output_type": "stream",
          "name": "stdout",
          "text": [
            "hello Ruth, how are you doing?\n"
          ]
        }
      ],
      "source": [
        "print ('hello Ruth, how are you doing?')"
      ]
    },
    {
      "cell_type": "code",
      "source": [],
      "metadata": {
        "id": "-TIMm5guYt3K"
      },
      "execution_count": null,
      "outputs": []
    },
    {
      "cell_type": "code",
      "source": [],
      "metadata": {
        "colab": {
          "base_uri": "https://localhost:8080/"
        },
        "id": "9CN2laqIXGzl",
        "outputId": "3be5e225-530e-4887-c509-4e11f0e69ebc"
      },
      "execution_count": 1,
      "outputs": [
        {
          "output_type": "stream",
          "name": "stdout",
          "text": [
            "Mounted at /content/drive\n"
          ]
        }
      ]
    }
  ]
}